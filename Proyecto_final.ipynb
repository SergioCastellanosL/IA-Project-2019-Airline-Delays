{
  "nbformat": 4,
  "nbformat_minor": 0,
  "metadata": {
    "colab": {
      "name": "Proyecto final.ipynb",
      "provenance": []
    },
    "kernelspec": {
      "name": "python3",
      "display_name": "Python 3"
    },
    "language_info": {
      "name": "python"
    }
  },
  "cells": [
    {
      "cell_type": "markdown",
      "metadata": {
        "id": "k-3NxQXMJJRT"
      },
      "source": [
        "# **Proyecto Final IA. Airline Delays Classification**\n",
        "Sergio Andrés Castellanos Landazábal"
      ]
    },
    {
      "cell_type": "code",
      "metadata": {
        "id": "0oKq-nFIBF4f"
      },
      "source": [
        "import pandas as pd\n",
        "import sklearn\n",
        "import matplotlib.pyplot as plt\n",
        "from sklearn.preprocessing import minmax_scale\n",
        "from sklearn.preprocessing import StandardScaler\n",
        "import numpy as np\n",
        "from sklearn import decomposition\n",
        "from sklearn.neural_network import MLPClassifier\n",
        "from sklearn.model_selection import train_test_split\n",
        "from sklearn.metrics import roc_curve,roc_auc_score\n",
        "from sklearn.metrics import matthews_corrcoef\n",
        "from sklearn.metrics import f1_score\n",
        "from sklearn import svm"
      ],
      "execution_count": 17,
      "outputs": []
    },
    {
      "cell_type": "markdown",
      "metadata": {
        "id": "-zQlCmTvKKwN"
      },
      "source": [
        "En primer lugar, se lee el dataframe pequeño que se encuentra en kaggle https://www.kaggle.com/threnjen/2019-airline-delays-and-cancellations?select=train_test_small.csv. Ya que el dataset es muy grande este se revuelve y se toman los primeros 2000 datos."
      ]
    },
    {
      "cell_type": "code",
      "metadata": {
        "colab": {
          "base_uri": "https://localhost:8080/",
          "height": 343
        },
        "id": "iqKdvq29FjTi",
        "outputId": "8996ad20-176d-4e29-80f7-a589b1c540da"
      },
      "source": [
        "ADelaydf = pd.read_csv(\"train_test_small.csv\", sep=',', nrows=2000)\n",
        "ADelaydf=sklearn.utils.shuffle(ADelaydf)\n",
        "ADelaydf.head()"
      ],
      "execution_count": 47,
      "outputs": [
        {
          "output_type": "execute_result",
          "data": {
            "text/html": [
              "<div>\n",
              "<style scoped>\n",
              "    .dataframe tbody tr th:only-of-type {\n",
              "        vertical-align: middle;\n",
              "    }\n",
              "\n",
              "    .dataframe tbody tr th {\n",
              "        vertical-align: top;\n",
              "    }\n",
              "\n",
              "    .dataframe thead th {\n",
              "        text-align: right;\n",
              "    }\n",
              "</style>\n",
              "<table border=\"1\" class=\"dataframe\">\n",
              "  <thead>\n",
              "    <tr style=\"text-align: right;\">\n",
              "      <th></th>\n",
              "      <th>MONTH</th>\n",
              "      <th>DAY_OF_WEEK</th>\n",
              "      <th>DEP_DEL15</th>\n",
              "      <th>DISTANCE_GROUP</th>\n",
              "      <th>DEP_BLOCK</th>\n",
              "      <th>SEGMENT_NUMBER</th>\n",
              "      <th>CONCURRENT_FLIGHTS</th>\n",
              "      <th>NUMBER_OF_SEATS</th>\n",
              "      <th>CARRIER_NAME</th>\n",
              "      <th>AIRPORT_FLIGHTS_MONTH</th>\n",
              "      <th>AIRLINE_FLIGHTS_MONTH</th>\n",
              "      <th>AIRLINE_AIRPORT_FLIGHTS_MONTH</th>\n",
              "      <th>AVG_MONTHLY_PASS_AIRPORT</th>\n",
              "      <th>AVG_MONTHLY_PASS_AIRLINE</th>\n",
              "      <th>FLT_ATTENDANTS_PER_PASS</th>\n",
              "      <th>GROUND_SERV_PER_PASS</th>\n",
              "      <th>PLANE_AGE</th>\n",
              "      <th>DEPARTING_AIRPORT</th>\n",
              "      <th>LATITUDE</th>\n",
              "      <th>LONGITUDE</th>\n",
              "      <th>PREVIOUS_AIRPORT</th>\n",
              "      <th>PRCP</th>\n",
              "      <th>SNOW</th>\n",
              "      <th>SNWD</th>\n",
              "      <th>TMAX</th>\n",
              "      <th>AWND</th>\n",
              "    </tr>\n",
              "  </thead>\n",
              "  <tbody>\n",
              "    <tr>\n",
              "      <th>1809</th>\n",
              "      <td>1</td>\n",
              "      <td>3</td>\n",
              "      <td>0</td>\n",
              "      <td>2</td>\n",
              "      <td>AFTERNOON</td>\n",
              "      <td>2</td>\n",
              "      <td>180</td>\n",
              "      <td>124</td>\n",
              "      <td>United Air Lines Inc.</td>\n",
              "      <td>23400</td>\n",
              "      <td>46218</td>\n",
              "      <td>5228</td>\n",
              "      <td>3103410</td>\n",
              "      <td>8501631</td>\n",
              "      <td>0.000254</td>\n",
              "      <td>0.000229</td>\n",
              "      <td>20</td>\n",
              "      <td>Chicago O'Hare International</td>\n",
              "      <td>41.978</td>\n",
              "      <td>-87.906</td>\n",
              "      <td>Albuquerque International Sunport</td>\n",
              "      <td>0.22</td>\n",
              "      <td>1.0</td>\n",
              "      <td>3.9</td>\n",
              "      <td>34.0</td>\n",
              "      <td>9.84</td>\n",
              "    </tr>\n",
              "    <tr>\n",
              "      <th>365</th>\n",
              "      <td>1</td>\n",
              "      <td>7</td>\n",
              "      <td>0</td>\n",
              "      <td>2</td>\n",
              "      <td>AFTERNOON</td>\n",
              "      <td>5</td>\n",
              "      <td>112</td>\n",
              "      <td>143</td>\n",
              "      <td>Southwest Airlines Co.</td>\n",
              "      <td>13056</td>\n",
              "      <td>107363</td>\n",
              "      <td>5873</td>\n",
              "      <td>1903352</td>\n",
              "      <td>13382999</td>\n",
              "      <td>0.000062</td>\n",
              "      <td>0.000099</td>\n",
              "      <td>14</td>\n",
              "      <td>McCarran International</td>\n",
              "      <td>36.080</td>\n",
              "      <td>-115.152</td>\n",
              "      <td>Phoenix Sky Harbor International</td>\n",
              "      <td>0.00</td>\n",
              "      <td>0.0</td>\n",
              "      <td>0.0</td>\n",
              "      <td>65.0</td>\n",
              "      <td>2.91</td>\n",
              "    </tr>\n",
              "    <tr>\n",
              "      <th>251</th>\n",
              "      <td>1</td>\n",
              "      <td>7</td>\n",
              "      <td>0</td>\n",
              "      <td>7</td>\n",
              "      <td>AFTERNOON</td>\n",
              "      <td>3</td>\n",
              "      <td>112</td>\n",
              "      <td>175</td>\n",
              "      <td>Southwest Airlines Co.</td>\n",
              "      <td>13056</td>\n",
              "      <td>107363</td>\n",
              "      <td>5873</td>\n",
              "      <td>1903352</td>\n",
              "      <td>13382999</td>\n",
              "      <td>0.000062</td>\n",
              "      <td>0.000099</td>\n",
              "      <td>3</td>\n",
              "      <td>McCarran International</td>\n",
              "      <td>36.080</td>\n",
              "      <td>-115.152</td>\n",
              "      <td>Friendship International</td>\n",
              "      <td>0.00</td>\n",
              "      <td>0.0</td>\n",
              "      <td>0.0</td>\n",
              "      <td>65.0</td>\n",
              "      <td>2.91</td>\n",
              "    </tr>\n",
              "    <tr>\n",
              "      <th>193</th>\n",
              "      <td>1</td>\n",
              "      <td>7</td>\n",
              "      <td>1</td>\n",
              "      <td>2</td>\n",
              "      <td>AFTERNOON</td>\n",
              "      <td>3</td>\n",
              "      <td>112</td>\n",
              "      <td>185</td>\n",
              "      <td>Alaska Airlines Inc.</td>\n",
              "      <td>13056</td>\n",
              "      <td>20315</td>\n",
              "      <td>717</td>\n",
              "      <td>1903352</td>\n",
              "      <td>2884187</td>\n",
              "      <td>0.000032</td>\n",
              "      <td>0.000175</td>\n",
              "      <td>1</td>\n",
              "      <td>McCarran International</td>\n",
              "      <td>36.080</td>\n",
              "      <td>-115.152</td>\n",
              "      <td>Seattle International</td>\n",
              "      <td>0.00</td>\n",
              "      <td>0.0</td>\n",
              "      <td>0.0</td>\n",
              "      <td>65.0</td>\n",
              "      <td>2.91</td>\n",
              "    </tr>\n",
              "    <tr>\n",
              "      <th>1407</th>\n",
              "      <td>1</td>\n",
              "      <td>5</td>\n",
              "      <td>0</td>\n",
              "      <td>4</td>\n",
              "      <td>EVENING</td>\n",
              "      <td>3</td>\n",
              "      <td>64</td>\n",
              "      <td>146</td>\n",
              "      <td>Alaska Airlines Inc.</td>\n",
              "      <td>10155</td>\n",
              "      <td>20315</td>\n",
              "      <td>5024</td>\n",
              "      <td>1960746</td>\n",
              "      <td>2884187</td>\n",
              "      <td>0.000032</td>\n",
              "      <td>0.000175</td>\n",
              "      <td>8</td>\n",
              "      <td>Seattle International</td>\n",
              "      <td>47.447</td>\n",
              "      <td>-122.306</td>\n",
              "      <td>San Francisco International</td>\n",
              "      <td>0.00</td>\n",
              "      <td>0.0</td>\n",
              "      <td>0.0</td>\n",
              "      <td>61.0</td>\n",
              "      <td>7.61</td>\n",
              "    </tr>\n",
              "  </tbody>\n",
              "</table>\n",
              "</div>"
            ],
            "text/plain": [
              "      MONTH  DAY_OF_WEEK  DEP_DEL15  DISTANCE_GROUP  ... SNOW  SNWD  TMAX  AWND\n",
              "1809      1            3          0               2  ...  1.0   3.9  34.0  9.84\n",
              "365       1            7          0               2  ...  0.0   0.0  65.0  2.91\n",
              "251       1            7          0               7  ...  0.0   0.0  65.0  2.91\n",
              "193       1            7          1               2  ...  0.0   0.0  65.0  2.91\n",
              "1407      1            5          0               4  ...  0.0   0.0  61.0  7.61\n",
              "\n",
              "[5 rows x 26 columns]"
            ]
          },
          "metadata": {},
          "execution_count": 47
        }
      ]
    },
    {
      "cell_type": "markdown",
      "metadata": {
        "id": "0zn3s16KKXR7"
      },
      "source": [
        "Se toman las características del dataset:\n",
        "* DAY_OF_WEEK\n",
        "* DEP_BLOCK MORNING AFTERNOON EVENING MIDDAY LATE_NIGHT\n",
        "*CONCURRENT_FLIGHTS\n",
        "*NUMBER_OF_SEATS\n",
        "*CARRIER_NAME\n",
        "*AIRLINE_AIRPORT_FLIGHTS_MONTH\n",
        "*PLANE_AGE\n",
        "*DEPARTING_AIRPORT\n",
        "*PRCP\n",
        "*TMAX\n",
        "*AWND\n",
        "\n",
        "En este caso no se toma la caracteristica del mes porque el dataset pequeño es solo de enero."
      ]
    },
    {
      "cell_type": "code",
      "metadata": {
        "id": "QnEVW9RaG267"
      },
      "source": [
        "X= ADelaydf[['DAY_OF_WEEK','DEP_BLOCK','CONCURRENT_FLIGHTS', 'NUMBER_OF_SEATS', 'CARRIER_NAME', 'AIRLINE_AIRPORT_FLIGHTS_MONTH','PLANE_AGE','DEPARTING_AIRPORT','PRCP','TMAX','AWND']].values\n",
        "Y = ADelaydf[['DEP_DEL15']].values"
      ],
      "execution_count": 48,
      "outputs": []
    },
    {
      "cell_type": "markdown",
      "metadata": {
        "id": "pYzp79F-L61r"
      },
      "source": [
        "A continuación se realiza el preprocesamiento del dataset para las columnas DEP_BLOCK, CARRIER_NAME y DEPARTING_AIRPORT, se pasan a valores númericos como se observa a continuación."
      ]
    },
    {
      "cell_type": "code",
      "metadata": {
        "id": "7UOiq5h-La-r"
      },
      "source": [
        "#Columna DEP_BLOCK\n",
        "for i in range(0,len(X)):\n",
        " if str(X[i][1]) == \"MORNING\":\n",
        "  X[i][1]=1\n",
        " elif str(X[i][1]) == \"AFTERNOON\":\n",
        "  X[i][1]=2\n",
        " elif str(X[i][1]) == \"EVENING\":\n",
        "  X[i][1]=3\n",
        " elif str(X[i][1]) == \"MIDDAY\":\n",
        "  X[i][1]=4\n",
        " else:\n",
        "  X[i][1]=5\n",
        "\n",
        "#Columna CARRIER_NAME\n",
        "# A continuación se hallan los valores únicos de la columna y se realiza un\n",
        "# diccionario.\n",
        "\n",
        "U_CN=ADelaydf['CARRIER_NAME'].unique()\n",
        "aux_list= range(len(U_CN))\n",
        "zip_iterator= zip(U_CN,aux_list)\n",
        "Dict_CN= dict(zip_iterator)\n",
        "\n",
        "for i in range(0,len(X)):\n",
        "    aux= str(X[i][4])\n",
        "    X[i][4]= Dict_CN[aux]\n",
        "\n",
        "#Columna DEPARTING_AIRPORT\n",
        "# A continuación se hallan los valores únicos de la columna y se realiza un\n",
        "# diccionario.\n",
        "\n",
        "U_DA=ADelaydf['DEPARTING_AIRPORT'].unique()\n",
        "aux_list= range(len(U_DA))\n",
        "zip_iterator= zip(U_DA,aux_list)\n",
        "Dict_DA= dict(zip_iterator)\n",
        "\n",
        "for i in range(0,len(X)):\n",
        "    aux= str(X[i][7])\n",
        "    X[i][7]= Dict_DA[aux]"
      ],
      "execution_count": 49,
      "outputs": []
    },
    {
      "cell_type": "markdown",
      "metadata": {
        "id": "OsmTQKx4esqr"
      },
      "source": [
        "Con los archivos limpios se crea un nuevo csv."
      ]
    },
    {
      "cell_type": "code",
      "metadata": {
        "id": "5YJKYciNcmO8"
      },
      "source": [
        "new_array = np.append(X, Y, axis=1)\n",
        "df = pd.DataFrame(new_array)\n",
        "df.to_csv('cleandata.csv')"
      ],
      "execution_count": 50,
      "outputs": []
    },
    {
      "cell_type": "markdown",
      "metadata": {
        "id": "S-N83-9LezwB"
      },
      "source": [
        "Posteriormente, se realiza la normalización de las características con el método MinMaxScaler y StandarScaler."
      ]
    },
    {
      "cell_type": "code",
      "metadata": {
        "id": "Lj6jzRnIOZVs"
      },
      "source": [
        "#Método MinMaxScaler\n",
        "mm_scaler = sklearn.preprocessing.MinMaxScaler(feature_range = (-1,1))\n",
        "mm_scaler.fit(X)\n",
        "X_mmscaled = mm_scaler.transform(X)\n",
        "\n",
        "#Método StandardScaler\n",
        "s_scaler = StandardScaler()\n",
        "s_scaler.fit(X)\n",
        "X_sscaled = s_scaler.transform(X)"
      ],
      "execution_count": 51,
      "outputs": []
    },
    {
      "cell_type": "markdown",
      "metadata": {
        "id": "GpehqsWK4azD"
      },
      "source": [
        "Luego, se realiza PCA a las características normalizadas, específicamente se reduce a 10 características."
      ]
    },
    {
      "cell_type": "code",
      "metadata": {
        "colab": {
          "base_uri": "https://localhost:8080/",
          "height": 0
        },
        "id": "qQDClA4HibBz",
        "outputId": "9354d419-ec1a-4bff-8689-65b212ab5b11"
      },
      "source": [
        "pca = decomposition.PCA(n_components=9, svd_solver='full')\n",
        "pca.fit(X_mmscaled)\n",
        "X_mmpca = pca.transform(X_mmscaled)\n",
        "print(sum(pca.explained_variance_ratio_[0:9]))\n",
        "print(\"varianza explicada por cada caracteristica después de PCA:\",pca.explained_variance_ratio_)\n",
        "\n",
        "pca.fit(X_sscaled)\n",
        "X_spca = pca.transform(X_sscaled)\n",
        "print(sum(pca.explained_variance_ratio_[0:9]))\n",
        "print(\"varianza explicada por cada caracteristica después de PCA:\",pca.explained_variance_ratio_)\n",
        "\n",
        "X_train, X_test, y_train, y_test = train_test_split(X_mmpca, Y, random_state=0)"
      ],
      "execution_count": 52,
      "outputs": [
        {
          "output_type": "stream",
          "name": "stdout",
          "text": [
            "0.9934848079099791\n",
            "varianza explicada por cada caracteristica después de PCA: [0.34616362 0.18163149 0.12661575 0.11482854 0.07754263 0.05538005\n",
            " 0.04520745 0.02692308 0.01919217]\n",
            "0.9914118944549161\n",
            "varianza explicada por cada caracteristica después de PCA: [0.28283934 0.19023665 0.11441445 0.10729434 0.09412136 0.07806874\n",
            " 0.05759235 0.03913932 0.02770535]\n"
          ]
        }
      ]
    },
    {
      "cell_type": "markdown",
      "metadata": {
        "id": "Id_k5X806DAx"
      },
      "source": [
        "Finalmente, se selecciona la normalización MinMaxScaler, ya que el valor de varianza es un poco mejor."
      ]
    },
    {
      "cell_type": "markdown",
      "metadata": {
        "id": "He2cCltH5CRh"
      },
      "source": [
        "# **Redes Neunorales**"
      ]
    },
    {
      "cell_type": "markdown",
      "metadata": {
        "id": "wmWTX2uN6qmh"
      },
      "source": [
        "En primer lugar, se halla que activation y solver nos da el mejor score para esta solución. Como se observa a continuación, con identity y adam obtenemos el mayor score 0.8. "
      ]
    },
    {
      "cell_type": "code",
      "metadata": {
        "colab": {
          "base_uri": "https://localhost:8080/",
          "height": 0
        },
        "id": "zc4zLz60SJvT",
        "outputId": "a345549c-6cef-4760-b975-2ab88ac342f8"
      },
      "source": [
        "activations =['identity', 'logistic', 'tanh', 'relu']\n",
        "solvers = [\"lbfgs\", \"sgd\",\"adam\"]\n",
        "max_score= 0\n",
        "\n",
        "for i in activations:\n",
        "  for j in solvers:\n",
        "    clf_MLP = MLPClassifier(activation=i, solver=j, max_iter=10000, random_state=1)\n",
        "    clf_MLP.fit(X_train, np.ravel(y_train))\n",
        "    score= clf_MLP.score(X_test, y_test)\n",
        "    if(max_score < score):\n",
        "      max_score = score\n",
        "      best_a= i\n",
        "      best_s= j\n",
        "\n",
        "print(\"max_score\",max_score)\n",
        "print(\"best_Activation\",best_a)\n",
        "print(\"best_Solver\",best_s)"
      ],
      "execution_count": 53,
      "outputs": [
        {
          "output_type": "stream",
          "name": "stdout",
          "text": [
            "max_score 0.838\n",
            "best_Activation identity\n",
            "best_Solver adam\n"
          ]
        }
      ]
    },
    {
      "cell_type": "markdown",
      "metadata": {
        "id": "NofQmnx29Nji"
      },
      "source": [
        "Posteriormente, se iteran las capas ocultas y se observa que con 99 capas es suficiente."
      ]
    },
    {
      "cell_type": "code",
      "metadata": {
        "colab": {
          "base_uri": "https://localhost:8080/",
          "height": 0
        },
        "id": "EQ-ZbvzWqB9F",
        "outputId": "608f3ecb-d41d-494c-970c-3f8ef0805fa9"
      },
      "source": [
        "max_score=0\n",
        "for i in range(1,100):\n",
        "  clf_MLP = MLPClassifier(activation=best_a, solver=best_s, hidden_layer_sizes=i, max_iter=10000, random_state=1)\n",
        "  clf_MLP.fit(X_train, np.ravel(y_train))\n",
        "  score= clf_MLP.score(X_test, y_test)\n",
        "  if(max_score < score):\n",
        "    max_score = score\n",
        "    best_l= i\n",
        "\n",
        "print(\"max_score\",max_score)\n",
        "print(\"Best layer\",best_l)"
      ],
      "execution_count": 54,
      "outputs": [
        {
          "output_type": "stream",
          "name": "stdout",
          "text": [
            "max_score 0.842\n",
            "Best layer 99\n"
          ]
        }
      ]
    },
    {
      "cell_type": "markdown",
      "metadata": {
        "id": "oDQU2JnWLenW"
      },
      "source": [
        "Luego, se itera el parámetro learning rate init. Hallando que el default 0,001 es suficiente para la solución."
      ]
    },
    {
      "cell_type": "code",
      "metadata": {
        "colab": {
          "base_uri": "https://localhost:8080/",
          "height": 0
        },
        "id": "7rrUVL6Wt6Vi",
        "outputId": "dcde48ca-f9c5-494f-8167-2aea3343cd6d"
      },
      "source": [
        "max_score=0\n",
        "for i in np.linspace(0.001,0.1,100):\n",
        "  clf_MLP = MLPClassifier(activation=best_a, solver=best_s, hidden_layer_sizes=best_l, learning_rate_init=i, max_iter=10000, random_state=1)\n",
        "  clf_MLP.fit(X_train, np.ravel(y_train))\n",
        "  score= clf_MLP.score(X_test, y_test)\n",
        "  if(max_score < score):\n",
        "    max_score = score\n",
        "    best_lr= i\n",
        "\n",
        "print(\"max_score\",max_score)\n",
        "print(\"Best Learning Rate:\",best_lr)"
      ],
      "execution_count": 55,
      "outputs": [
        {
          "output_type": "stream",
          "name": "stdout",
          "text": [
            "max_score 0.842\n",
            "Best Learning Rate: 0.001\n"
          ]
        }
      ]
    },
    {
      "cell_type": "markdown",
      "metadata": {
        "id": "5Pz4knw9KTO7"
      },
      "source": [
        "Finalmente, se obtienen las métricas de evaluación, coeficiente de Matthews, F1 Score y el porcentaje de ROC. Obteniendo un F1 Score de 0.84, un área bajo la curva de ROC de 78% y un coeficiente de Matthews de 0.5."
      ]
    },
    {
      "cell_type": "code",
      "metadata": {
        "colab": {
          "base_uri": "https://localhost:8080/",
          "height": 346
        },
        "id": "xCdJgPAW2Qqq",
        "outputId": "c8384175-9d9a-4f04-cb8d-57340ef22983"
      },
      "source": [
        "clf_MLP = MLPClassifier(activation=best_a, solver=best_s, hidden_layer_sizes=best_l, learning_rate_init=best_lr, max_iter=10000, random_state=1)\n",
        "clf_MLP.fit(X_train, np.ravel(y_train))\n",
        "print('Score:',max_score)\n",
        "y_test_predicted = clf_MLP.predict(X_test)\n",
        "y_test_scores = clf_MLP.predict_proba(X_test)\n",
        "print('Coeficiente de Matthews: '+ str(matthews_corrcoef(y_test, y_test_predicted)))\n",
        "print(\"F1 Score: \", f1_score(y_test, y_test_predicted, average='micro'))\n",
        "fpr,tpr,thresholds = roc_curve(y_test, y_test_scores[:,1])\n",
        "roc_auc=roc_auc_score(y_test, y_test_scores[:,1])\n",
        "plt.figure()\n",
        "plt.plot(fpr, tpr, color='red',lw=2, label='ROC curve (area = %0.2f)' % roc_auc)\n",
        "plt.plot([0, 1], [0, 1], color='blue', lw=2, linestyle='--')\n",
        "plt.xlabel('False Positive Rate')\n",
        "plt.ylabel('True Positive Rate')\n",
        "plt.title('Receiver operating characteristic. ROC')\n",
        "plt.legend(loc=\"lower right\")\n",
        "plt.show()"
      ],
      "execution_count": 56,
      "outputs": [
        {
          "output_type": "stream",
          "name": "stdout",
          "text": [
            "Score: 0.842\n",
            "Coeficiente de Matthews: 0.5056921465603261\n",
            "F1 Score:  0.842\n"
          ]
        },
        {
          "output_type": "display_data",
          "data": {
            "image/png": "[encoded data removed]",
            "text/plain": [
              "<Figure size 432x288 with 1 Axes>"
            ]
          },
          "metadata": {
            "needs_background": "light"
          }
        }
      ]
    },
    {
      "cell_type": "markdown",
      "metadata": {
        "id": "eRfvE1xDPvHS"
      },
      "source": [
        "# **Máquinas de soporte vectorial**"
      ]
    },
    {
      "cell_type": "markdown",
      "metadata": {
        "id": "WoSVNCUU-CiW"
      },
      "source": [
        "Por último, el clasificador svm. Para este clasificador se prueban todos los kernel, obteniendo el mejor resultado con poly"
      ]
    },
    {
      "cell_type": "code",
      "metadata": {
        "colab": {
          "base_uri": "https://localhost:8080/",
          "height": 0
        },
        "id": "EJHwhllGPt6W",
        "outputId": "11e92681-7afb-4c85-cd98-3222d5cf5fa6"
      },
      "source": [
        "kernels =['linear', 'poly', 'rbf', 'sigmoid']\n",
        "max_score=0\n",
        "for i in kernels:\n",
        "  Svm = svm.SVC(kernel= i)\n",
        "  Svm.fit(X_train, np.ravel(y_train))\n",
        "  score= Svm.score(X_test, y_test)\n",
        "  if(max_score < score):\n",
        "    max_score = score\n",
        "    best_k= i\n",
        "print(\"max_score\",max_score)\n",
        "print(\"Best Kernel:\",best_k)"
      ],
      "execution_count": 57,
      "outputs": [
        {
          "output_type": "stream",
          "name": "stdout",
          "text": [
            "max_score 0.826\n",
            "Best Kernel: poly\n"
          ]
        }
      ]
    },
    {
      "cell_type": "markdown",
      "metadata": {
        "id": "uiU9Uz4x-V5h"
      },
      "source": [
        "Finalmente, se obtienen las métricas de evaluación, coeficiente de Matthews, F1 Score y el porcentaje de ROC. Obteniendo un F1 Score de 0.82, un área bajo la curva de ROC de 77% y un coeficiente de Matthews de 0.45."
      ]
    },
    {
      "cell_type": "code",
      "metadata": {
        "colab": {
          "base_uri": "https://localhost:8080/",
          "height": 346
        },
        "id": "fLeqlip44ujH",
        "outputId": "3d850fcb-a260-456f-8082-39ac5da6400f"
      },
      "source": [
        "Svm = svm.SVC(kernel= best_k)\n",
        "Svm.fit(X_train, np.ravel(y_train))\n",
        "print('Score:',max_score)\n",
        "y_test_predicted = Svm.predict(X_test)\n",
        "y_test_scores = Svm.decision_function(X_test)\n",
        "coef_mattews= matthews_corrcoef(y_test, y_test_predicted)\n",
        "print('Coeficiente de Matthews: '+ str(matthews_corrcoef(y_test, y_test_predicted)))\n",
        "print(\"F1 Score: \", f1_score(y_test, y_test_predicted, average='micro'))\n",
        "fpr,tpr,thresholds = roc_curve(y_test, y_test_scores)\n",
        "roc_auc=roc_auc_score(y_test, y_test_scores)\n",
        "plt.figure()\n",
        "plt.plot(fpr, tpr, color='red',lw=2, label='ROC curve (area = %0.2f)' % roc_auc)\n",
        "plt.plot([0, 1], [0, 1], color='blue', lw=2, linestyle='--')\n",
        "plt.xlabel('False Positive Rate')\n",
        "plt.ylabel('True Positive Rate')\n",
        "plt.title('Receiver operating characteristic. ROC')\n",
        "plt.legend(loc=\"lower right\")\n",
        "plt.show()"
      ],
      "execution_count": 58,
      "outputs": [
        {
          "output_type": "stream",
          "name": "stdout",
          "text": [
            "Score: 0.826\n",
            "Coeficiente de Matthews: 0.45549110090554507\n",
            "F1 Score:  0.826\n"
          ]
        },
        {
          "output_type": "display_data",
          "data": {
            "image/png": "[encoded data removed]",
            "text/plain": [
              "<Figure size 432x288 with 1 Axes>"
            ]
          },
          "metadata": {
            "needs_background": "light"
          }
        }
      ]
    }
  ]
}